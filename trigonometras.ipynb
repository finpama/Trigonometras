{
 "cells": [
  {
   "cell_type": "markdown",
   "metadata": {},
   "source": [
    "### *Bot da Trigonometria*\n",
    "- Passar as informações que tenho do triangulo retâgulo\n",
    "- processar tudo e mandar um desenho com todos as medidas \n",
    "- opcionalmente mandar uma tabela com todos os dados"
   ]
  },
  {
   "cell_type": "code",
   "execution_count": null,
   "metadata": {},
   "outputs": [],
   "source": [
    "# Esquema do desenho de Output\n",
    "\n",
    "alfa = 45\n",
    "\n",
    "print(f\"\"\"\n",
    " a\n",
    "   .\n",
    "   .   .\n",
    "   .       .\n",
    "   .           .\n",
    "   .               .   AC\n",
    "   .                   .\n",
    "AB .                       .\n",
    "   .                           .\n",
    "   .                               .\n",
    "   .                                   .\n",
    "   ._                            α:{alfa}°/    .\n",
    "    •|. . . . . . . . . . . . . . . . . . . . . \n",
    " b                    BC                        c\n",
    "\n",
    "\n",
    "\"\"\")"
   ]
  }
 ],
 "metadata": {
  "interpreter": {
   "hash": "81794d4967e6c3204c66dcd87b604927b115b27c00565d3d43f05ba2f3a2cb0d"
  },
  "kernelspec": {
   "display_name": "Python 3.9.6 64-bit",
   "language": "python",
   "name": "python3"
  },
  "language_info": {
   "codemirror_mode": {
    "name": "ipython",
    "version": 3
   },
   "file_extension": ".py",
   "mimetype": "text/x-python",
   "name": "python",
   "nbconvert_exporter": "python",
   "pygments_lexer": "ipython3",
   "version": "3.9.6"
  },
  "orig_nbformat": 4
 },
 "nbformat": 4,
 "nbformat_minor": 2
}
